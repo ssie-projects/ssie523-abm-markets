{
 "cells": [
  {
   "cell_type": "code",
   "execution_count": 1,
   "id": "4ef970fc",
   "metadata": {},
   "outputs": [
    {
     "data": {
      "text/html": [
       "<div>\n",
       "<style scoped>\n",
       "    .dataframe tbody tr th:only-of-type {\n",
       "        vertical-align: middle;\n",
       "    }\n",
       "\n",
       "    .dataframe tbody tr th {\n",
       "        vertical-align: top;\n",
       "    }\n",
       "\n",
       "    .dataframe thead th {\n",
       "        text-align: right;\n",
       "    }\n",
       "</style>\n",
       "<table border=\"1\" class=\"dataframe\">\n",
       "  <thead>\n",
       "    <tr style=\"text-align: right;\">\n",
       "      <th></th>\n",
       "      <th>Date</th>\n",
       "      <th>Open</th>\n",
       "      <th>High</th>\n",
       "      <th>Low</th>\n",
       "      <th>Close</th>\n",
       "      <th>Adj Close</th>\n",
       "      <th>Volume</th>\n",
       "    </tr>\n",
       "  </thead>\n",
       "  <tbody>\n",
       "    <tr>\n",
       "      <th>0</th>\n",
       "      <td>2006-01-03</td>\n",
       "      <td>125.190002</td>\n",
       "      <td>127.000000</td>\n",
       "      <td>124.389999</td>\n",
       "      <td>126.699997</td>\n",
       "      <td>93.390411</td>\n",
       "      <td>73256700</td>\n",
       "    </tr>\n",
       "    <tr>\n",
       "      <th>1</th>\n",
       "      <td>2006-01-04</td>\n",
       "      <td>126.860001</td>\n",
       "      <td>127.489998</td>\n",
       "      <td>126.699997</td>\n",
       "      <td>127.300003</td>\n",
       "      <td>93.832680</td>\n",
       "      <td>51899600</td>\n",
       "    </tr>\n",
       "    <tr>\n",
       "      <th>2</th>\n",
       "      <td>2006-01-05</td>\n",
       "      <td>127.150002</td>\n",
       "      <td>127.589996</td>\n",
       "      <td>126.879997</td>\n",
       "      <td>127.379997</td>\n",
       "      <td>93.891640</td>\n",
       "      <td>47307500</td>\n",
       "    </tr>\n",
       "    <tr>\n",
       "      <th>3</th>\n",
       "      <td>2006-01-06</td>\n",
       "      <td>128.020004</td>\n",
       "      <td>128.580002</td>\n",
       "      <td>127.360001</td>\n",
       "      <td>128.440002</td>\n",
       "      <td>94.673004</td>\n",
       "      <td>62885900</td>\n",
       "    </tr>\n",
       "    <tr>\n",
       "      <th>4</th>\n",
       "      <td>2006-01-09</td>\n",
       "      <td>128.419998</td>\n",
       "      <td>129.059998</td>\n",
       "      <td>128.380005</td>\n",
       "      <td>128.770004</td>\n",
       "      <td>94.916222</td>\n",
       "      <td>43527400</td>\n",
       "    </tr>\n",
       "  </tbody>\n",
       "</table>\n",
       "</div>"
      ],
      "text/plain": [
       "         Date        Open        High         Low       Close  Adj Close  \\\n",
       "0  2006-01-03  125.190002  127.000000  124.389999  126.699997  93.390411   \n",
       "1  2006-01-04  126.860001  127.489998  126.699997  127.300003  93.832680   \n",
       "2  2006-01-05  127.150002  127.589996  126.879997  127.379997  93.891640   \n",
       "3  2006-01-06  128.020004  128.580002  127.360001  128.440002  94.673004   \n",
       "4  2006-01-09  128.419998  129.059998  128.380005  128.770004  94.916222   \n",
       "\n",
       "     Volume  \n",
       "0  73256700  \n",
       "1  51899600  \n",
       "2  47307500  \n",
       "3  62885900  \n",
       "4  43527400  "
      ]
     },
     "execution_count": 1,
     "metadata": {},
     "output_type": "execute_result"
    }
   ],
   "source": [
    "import numpy as np\n",
    "import pandas as pd\n",
    "import scipy.stats as stats\n",
    "\n",
    "# https://finance.yahoo.com/quote/SPY/history?period1=1136073600&period2=1619395200&interval=1d&filter=history&frequency=1d&includeAdjustedClose=true\n",
    "file = 'SPY.csv'\n",
    "\n",
    "df = pd.read_csv(file)\n",
    "df.head()"
   ]
  },
  {
   "cell_type": "code",
   "execution_count": 2,
   "id": "6fad38a3",
   "metadata": {},
   "outputs": [],
   "source": [
    "df['log_adj_close'] = np.log(df['Adj Close'])\n",
    "r = np.diff(df['log_adj_close'].tolist())"
   ]
  },
  {
   "cell_type": "code",
   "execution_count": 3,
   "id": "ce7e8ec1",
   "metadata": {},
   "outputs": [
    {
     "data": {
      "text/plain": [
       "(3853, 8)"
      ]
     },
     "execution_count": 3,
     "metadata": {},
     "output_type": "execute_result"
    }
   ],
   "source": [
    "df.shape"
   ]
  },
  {
   "cell_type": "code",
   "execution_count": 4,
   "id": "c1edba1f",
   "metadata": {},
   "outputs": [
    {
     "name": "stdout",
     "output_type": "stream",
     "text": [
      "Ground Truth Stats (daily log returns):\n",
      "Mean:\t\t\t 0.00038828500211185896\n",
      "Std dev:\t\t 0.012609683312504871\n",
      "Variance:\t\t 0.00015900411324166382\n",
      "Skew:\t\t\t -0.3902041167121579\n",
      "Excess kurt:\t\t 15.06628837558424\n"
     ]
    }
   ],
   "source": [
    "mu = np.mean(r)\n",
    "sigma = np.std(r)\n",
    "sigma2 = np.var(r)\n",
    "skew = stats.skew(r)\n",
    "kurt = stats.kurtosis(r)\n",
    "\n",
    "print('Ground Truth Stats (daily log returns):')\n",
    "print('Mean:\\t\\t\\t', mu)\n",
    "print('Std dev:\\t\\t', sigma)\n",
    "print('Variance:\\t\\t', sigma2)\n",
    "print('Skew:\\t\\t\\t', skew)\n",
    "print('Excess kurt:\\t\\t', kurt)"
   ]
  }
 ],
 "metadata": {
  "kernelspec": {
   "display_name": "Python 3",
   "language": "python",
   "name": "python3"
  },
  "language_info": {
   "codemirror_mode": {
    "name": "ipython",
    "version": 3
   },
   "file_extension": ".py",
   "mimetype": "text/x-python",
   "name": "python",
   "nbconvert_exporter": "python",
   "pygments_lexer": "ipython3",
   "version": "3.8.8"
  }
 },
 "nbformat": 4,
 "nbformat_minor": 5
}
