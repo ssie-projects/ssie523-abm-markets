{
 "cells": [
  {
   "cell_type": "code",
   "execution_count": 1,
   "id": "b793c538",
   "metadata": {},
   "outputs": [],
   "source": [
    "import pandas as pd\n",
    "import numpy as np\n",
    "import pickle\n",
    "\n",
    "with open('resultsSpace.pkl', 'rb') as f:\n",
    "    RESULTS_SPACE = pickle.load(f)"
   ]
  },
  {
   "cell_type": "code",
   "execution_count": 2,
   "id": "c9542ab3",
   "metadata": {},
   "outputs": [],
   "source": [
    "mix_idx = np.argmin([each['moments']['average'] for each in RESULTS_SPACE])"
   ]
  },
  {
   "cell_type": "code",
   "execution_count": 3,
   "id": "7f7825dd",
   "metadata": {},
   "outputs": [
    {
     "data": {
      "text/plain": [
       "{'moments': {'pct_diff_mu': -42.79176175709902,\n",
       "  'pct_diff_sigma': 2.6167938454077313,\n",
       "  'pct_diff_sigma2': 5.232691904976229,\n",
       "  'pct_diff_skew': -2.375012259661698,\n",
       "  'pct_diff_kurt': -22.599533909544984,\n",
       "  'average': 15.123158735337933},\n",
       " 'param': {'tf': 1.0, 'tc': 28.0, 'nu': 0.0007000000000000001, 'b': 0.2505}}"
      ]
     },
     "execution_count": 3,
     "metadata": {},
     "output_type": "execute_result"
    }
   ],
   "source": [
    "RESULTS_SPACE[mix_idx]"
   ]
  }
 ],
 "metadata": {
  "kernelspec": {
   "display_name": "Python 3",
   "language": "python",
   "name": "python3"
  },
  "language_info": {
   "codemirror_mode": {
    "name": "ipython",
    "version": 3
   },
   "file_extension": ".py",
   "mimetype": "text/x-python",
   "name": "python",
   "nbconvert_exporter": "python",
   "pygments_lexer": "ipython3",
   "version": "3.8.8"
  }
 },
 "nbformat": 4,
 "nbformat_minor": 5
}
