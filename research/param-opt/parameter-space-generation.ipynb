{
 "cells": [
  {
   "cell_type": "code",
   "execution_count": 1,
   "id": "edbd527d",
   "metadata": {},
   "outputs": [
    {
     "name": "stdout",
     "output_type": "stream",
     "text": [
      "Elapsed Time to Create Search Space: 3.124300003051758\n"
     ]
    }
   ],
   "source": [
    "import itertools\n",
    "import numpy as np\n",
    "import time\n",
    "import pickle\n",
    "\n",
    "#cart_prod[0]\n",
    "# nu_, tf_, tc_, b_\n",
    "\n",
    "start = time.time()\n",
    "a = list(np.linspace(0.0001, 1, 10000))\n",
    "b = list(np.linspace(1, 30, 30))\n",
    "c = list(np.linspace(1, 30, 30))\n",
    "d = list(np.linspace(0.001, 0.999, 5))\n",
    "space = [a, b, c, d]\n",
    "cart_prod = list(itertools.product(*space))\n",
    "end = time.time()\n",
    "print('Elapsed Time to Create Search Space: {}'.format(end-start))"
   ]
  },
  {
   "cell_type": "code",
   "execution_count": 2,
   "id": "7be4eb9d",
   "metadata": {},
   "outputs": [
    {
     "data": {
      "text/plain": [
       "45000000"
      ]
     },
     "execution_count": 2,
     "metadata": {},
     "output_type": "execute_result"
    }
   ],
   "source": [
    "len(cart_prod)"
   ]
  },
  {
   "cell_type": "code",
   "execution_count": 3,
   "id": "33a190bf",
   "metadata": {},
   "outputs": [],
   "source": [
    "with open('paramSpace.pkl', 'wb') as f:\n",
    "    pickle.dump(cart_prod, f)"
   ]
  },
  {
   "cell_type": "code",
   "execution_count": 4,
   "id": "bfcd1159",
   "metadata": {},
   "outputs": [
    {
     "data": {
      "text/plain": [
       "45000000"
      ]
     },
     "execution_count": 4,
     "metadata": {},
     "output_type": "execute_result"
    }
   ],
   "source": [
    "len(cart_prod)"
   ]
  },
  {
   "cell_type": "code",
   "execution_count": 5,
   "id": "4c91d36a",
   "metadata": {},
   "outputs": [
    {
     "name": "stdout",
     "output_type": "stream",
     "text": [
      "Elapsed Time: 7.802922010421753\n"
     ]
    }
   ],
   "source": [
    "start_time = time.time()\n",
    "with open('paramSpace.pkl', 'rb') as f:\n",
    "    SAMPLE_SPACE = pickle.load(f)\n",
    "end_time = time.time()\n",
    "print('Elapsed Time: {}'.format(end_time-start_time))"
   ]
  },
  {
   "cell_type": "code",
   "execution_count": 6,
   "id": "b5ea67ed",
   "metadata": {},
   "outputs": [
    {
     "data": {
      "text/plain": [
       "45000000"
      ]
     },
     "execution_count": 6,
     "metadata": {},
     "output_type": "execute_result"
    }
   ],
   "source": [
    "len(SAMPLE_SPACE)"
   ]
  }
 ],
 "metadata": {
  "kernelspec": {
   "display_name": "Python 3",
   "language": "python",
   "name": "python3"
  },
  "language_info": {
   "codemirror_mode": {
    "name": "ipython",
    "version": 3
   },
   "file_extension": ".py",
   "mimetype": "text/x-python",
   "name": "python",
   "nbconvert_exporter": "python",
   "pygments_lexer": "ipython3",
   "version": "3.8.8"
  }
 },
 "nbformat": 4,
 "nbformat_minor": 5
}
