{
 "cells": [
  {
   "cell_type": "markdown",
   "metadata": {},
   "source": [
    "## S&P 500 ETF (SPY)\n",
    "SPY market data obtained from Yahoo finance\n",
    "\n",
    "Daily prices from 1/29/1993 - 4/23/2021"
   ]
  },
  {
   "cell_type": "code",
   "execution_count": 79,
   "metadata": {},
   "outputs": [],
   "source": [
    "import matplotlib.pyplot as plt\n",
    "import seaborn as sns\n",
    "import numpy as np\n",
    "import pandas as pd\n",
    "from scipy.stats import norm, skew, skewtest, kurtosis, kurtosistest\n",
    "\n",
    "%matplotlib inline"
   ]
  },
  {
   "cell_type": "code",
   "execution_count": 2,
   "metadata": {},
   "outputs": [
    {
     "data": {
      "text/html": [
       "<div>\n",
       "<style scoped>\n",
       "    .dataframe tbody tr th:only-of-type {\n",
       "        vertical-align: middle;\n",
       "    }\n",
       "\n",
       "    .dataframe tbody tr th {\n",
       "        vertical-align: top;\n",
       "    }\n",
       "\n",
       "    .dataframe thead th {\n",
       "        text-align: right;\n",
       "    }\n",
       "</style>\n",
       "<table border=\"1\" class=\"dataframe\">\n",
       "  <thead>\n",
       "    <tr style=\"text-align: right;\">\n",
       "      <th></th>\n",
       "      <th>Date</th>\n",
       "      <th>Open</th>\n",
       "      <th>High</th>\n",
       "      <th>Low</th>\n",
       "      <th>Close</th>\n",
       "      <th>Adj Close</th>\n",
       "      <th>Volume</th>\n",
       "    </tr>\n",
       "  </thead>\n",
       "  <tbody>\n",
       "    <tr>\n",
       "      <th>0</th>\n",
       "      <td>1993-01-29</td>\n",
       "      <td>43.96875</td>\n",
       "      <td>43.96875</td>\n",
       "      <td>43.75000</td>\n",
       "      <td>43.93750</td>\n",
       "      <td>25.884184</td>\n",
       "      <td>1003200</td>\n",
       "    </tr>\n",
       "    <tr>\n",
       "      <th>1</th>\n",
       "      <td>1993-02-01</td>\n",
       "      <td>43.96875</td>\n",
       "      <td>44.25000</td>\n",
       "      <td>43.96875</td>\n",
       "      <td>44.25000</td>\n",
       "      <td>26.068277</td>\n",
       "      <td>480500</td>\n",
       "    </tr>\n",
       "    <tr>\n",
       "      <th>2</th>\n",
       "      <td>1993-02-02</td>\n",
       "      <td>44.21875</td>\n",
       "      <td>44.37500</td>\n",
       "      <td>44.12500</td>\n",
       "      <td>44.34375</td>\n",
       "      <td>26.123499</td>\n",
       "      <td>201300</td>\n",
       "    </tr>\n",
       "    <tr>\n",
       "      <th>3</th>\n",
       "      <td>1993-02-03</td>\n",
       "      <td>44.40625</td>\n",
       "      <td>44.84375</td>\n",
       "      <td>44.37500</td>\n",
       "      <td>44.81250</td>\n",
       "      <td>26.399649</td>\n",
       "      <td>529400</td>\n",
       "    </tr>\n",
       "    <tr>\n",
       "      <th>4</th>\n",
       "      <td>1993-02-04</td>\n",
       "      <td>44.96875</td>\n",
       "      <td>45.09375</td>\n",
       "      <td>44.46875</td>\n",
       "      <td>45.00000</td>\n",
       "      <td>26.510111</td>\n",
       "      <td>531500</td>\n",
       "    </tr>\n",
       "  </tbody>\n",
       "</table>\n",
       "</div>"
      ],
      "text/plain": [
       "         Date      Open      High       Low     Close  Adj Close   Volume\n",
       "0  1993-01-29  43.96875  43.96875  43.75000  43.93750  25.884184  1003200\n",
       "1  1993-02-01  43.96875  44.25000  43.96875  44.25000  26.068277   480500\n",
       "2  1993-02-02  44.21875  44.37500  44.12500  44.34375  26.123499   201300\n",
       "3  1993-02-03  44.40625  44.84375  44.37500  44.81250  26.399649   529400\n",
       "4  1993-02-04  44.96875  45.09375  44.46875  45.00000  26.510111   531500"
      ]
     },
     "execution_count": 2,
     "metadata": {},
     "output_type": "execute_result"
    }
   ],
   "source": [
    "# Read SPY data\n",
    "df = pd.read_csv(\"./SPY.csv\")\n",
    "df.head()\n",
    "\n",
    "# Questions:\n",
    "# Should we use the close price, or adjusted close price for our analysis\n",
    "# https://www.investopedia.com/terms/a/adjusted_closing_price.asp"
   ]
  },
  {
   "cell_type": "code",
   "execution_count": 29,
   "metadata": {},
   "outputs": [
    {
     "data": {
      "text/plain": [
       "[<matplotlib.lines.Line2D at 0x7fb6dfc42d60>]"
      ]
     },
     "execution_count": 29,
     "metadata": {},
     "output_type": "execute_result"
    },
    {
     "data": {
      "image/png": "[encoded data removed]",
      "text/plain": [
       "<Figure size 432x288 with 1 Axes>"
      ]
     },
     "metadata": {
      "needs_background": "light"
     },
     "output_type": "display_data"
    }
   ],
   "source": [
    "plt.plot(df[\"Adj Close\"])"
   ]
  },
  {
   "cell_type": "code",
   "execution_count": 30,
   "metadata": {},
   "outputs": [],
   "source": [
    "# Calculate log returns of Close price\n",
    "log_returns = np.log(df[\"Adj Close\"]) - np.log(df[\"Adj Close\"].shift(1))\n",
    "log_returns = log_returns[log_returns.notnull()] # Remove the Null at index 0\n",
    "\n",
    "# Calculate statistics to generate true normal distribution\n",
    "mu, sigma = norm.fit(log_returns)\n",
    "\n",
    "\n",
    "# print(\"observed mu:\", mu)\n",
    "# print(\"observed sigma:\", sigma)"
   ]
  },
  {
   "cell_type": "markdown",
   "metadata": {},
   "source": [
    "## Compare to Normal distribution"
   ]
  },
  {
   "cell_type": "code",
   "execution_count": 31,
   "metadata": {},
   "outputs": [
    {
     "data": {
      "text/plain": [
       "[<matplotlib.lines.Line2D at 0x7fb6dfc29610>]"
      ]
     },
     "execution_count": 31,
     "metadata": {},
     "output_type": "execute_result"
    },
    {
     "data": {
      "image/png": "[encoded data removed]",
      "text/plain": [
       "<Figure size 432x288 with 1 Axes>"
      ]
     },
     "metadata": {
      "needs_background": "light"
     },
     "output_type": "display_data"
    }
   ],
   "source": [
    "# Plot histogram of observed log returns\n",
    "plt.hist(log_returns, bins = 1000);\n",
    "xmin, xmax = plt.xlim()\n",
    "# CL: This plot looks fairly normal to me. I was expecting to see fat tails or other skews.\n",
    "\n",
    "# Plot normal distribution over histogram of observed log returns\n",
    "x = np.linspace(xmin, xmax, 1000)\n",
    "p = norm.pdf(x, mu, sigma)\n",
    "plt.plot(x, p, 'k')"
   ]
  },
  {
   "cell_type": "markdown",
   "metadata": {},
   "source": [
    "## Daily volatility over time"
   ]
  },
  {
   "cell_type": "code",
   "execution_count": 63,
   "metadata": {},
   "outputs": [
    {
     "data": {
      "text/plain": [
       "[<matplotlib.lines.Line2D at 0x7fb6df04f8e0>]"
      ]
     },
     "execution_count": 63,
     "metadata": {},
     "output_type": "execute_result"
    },
    {
     "data": {
      "image/png": "[encoded data removed]",
      "text/plain": [
       "<Figure size 432x288 with 1 Axes>"
      ]
     },
     "metadata": {
      "needs_background": "light"
     },
     "output_type": "display_data"
    }
   ],
   "source": [
    "plt.plot(\n",
    "    np.arange(0, len(np.diff(np.log(df[\"Adj Close\"]))), step=1),\n",
    "    log_returns,\n",
    "    'k', \n",
    "    color = \"blue\",\n",
    "    linewidth = 0.5,\n",
    "    alpha = 0.25\n",
    ")"
   ]
  },
  {
   "cell_type": "markdown",
   "metadata": {},
   "source": [
    "## Statistical analysis"
   ]
  },
  {
   "cell_type": "code",
   "execution_count": 33,
   "metadata": {},
   "outputs": [
    {
     "data": {
      "text/html": [
       "<div>\n",
       "<style scoped>\n",
       "    .dataframe tbody tr th:only-of-type {\n",
       "        vertical-align: middle;\n",
       "    }\n",
       "\n",
       "    .dataframe tbody tr th {\n",
       "        vertical-align: top;\n",
       "    }\n",
       "\n",
       "    .dataframe thead th {\n",
       "        text-align: right;\n",
       "    }\n",
       "</style>\n",
       "<table border=\"1\" class=\"dataframe\">\n",
       "  <thead>\n",
       "    <tr style=\"text-align: right;\">\n",
       "      <th></th>\n",
       "      <th>Date</th>\n",
       "      <th>Open</th>\n",
       "      <th>High</th>\n",
       "      <th>Low</th>\n",
       "      <th>Close</th>\n",
       "      <th>Adj Close</th>\n",
       "      <th>Volume</th>\n",
       "    </tr>\n",
       "  </thead>\n",
       "  <tbody>\n",
       "    <tr>\n",
       "      <th>0</th>\n",
       "      <td>1993-01-29</td>\n",
       "      <td>43.96875</td>\n",
       "      <td>43.96875</td>\n",
       "      <td>43.75000</td>\n",
       "      <td>43.93750</td>\n",
       "      <td>25.884184</td>\n",
       "      <td>1003200</td>\n",
       "    </tr>\n",
       "    <tr>\n",
       "      <th>1</th>\n",
       "      <td>1993-02-01</td>\n",
       "      <td>43.96875</td>\n",
       "      <td>44.25000</td>\n",
       "      <td>43.96875</td>\n",
       "      <td>44.25000</td>\n",
       "      <td>26.068277</td>\n",
       "      <td>480500</td>\n",
       "    </tr>\n",
       "    <tr>\n",
       "      <th>2</th>\n",
       "      <td>1993-02-02</td>\n",
       "      <td>44.21875</td>\n",
       "      <td>44.37500</td>\n",
       "      <td>44.12500</td>\n",
       "      <td>44.34375</td>\n",
       "      <td>26.123499</td>\n",
       "      <td>201300</td>\n",
       "    </tr>\n",
       "    <tr>\n",
       "      <th>3</th>\n",
       "      <td>1993-02-03</td>\n",
       "      <td>44.40625</td>\n",
       "      <td>44.84375</td>\n",
       "      <td>44.37500</td>\n",
       "      <td>44.81250</td>\n",
       "      <td>26.399649</td>\n",
       "      <td>529400</td>\n",
       "    </tr>\n",
       "    <tr>\n",
       "      <th>4</th>\n",
       "      <td>1993-02-04</td>\n",
       "      <td>44.96875</td>\n",
       "      <td>45.09375</td>\n",
       "      <td>44.46875</td>\n",
       "      <td>45.00000</td>\n",
       "      <td>26.510111</td>\n",
       "      <td>531500</td>\n",
       "    </tr>\n",
       "  </tbody>\n",
       "</table>\n",
       "</div>"
      ],
      "text/plain": [
       "         Date      Open      High       Low     Close  Adj Close   Volume\n",
       "0  1993-01-29  43.96875  43.96875  43.75000  43.93750  25.884184  1003200\n",
       "1  1993-02-01  43.96875  44.25000  43.96875  44.25000  26.068277   480500\n",
       "2  1993-02-02  44.21875  44.37500  44.12500  44.34375  26.123499   201300\n",
       "3  1993-02-03  44.40625  44.84375  44.37500  44.81250  26.399649   529400\n",
       "4  1993-02-04  44.96875  45.09375  44.46875  45.00000  26.510111   531500"
      ]
     },
     "execution_count": 33,
     "metadata": {},
     "output_type": "execute_result"
    }
   ],
   "source": [
    "df.head()"
   ]
  },
  {
   "cell_type": "code",
   "execution_count": 65,
   "metadata": {},
   "outputs": [
    {
     "name": "stdout",
     "output_type": "stream",
     "text": [
      "mu: \t 0.00039088906686425416\n"
     ]
    }
   ],
   "source": [
    "# Mean\n",
    "mu = np.mean(log_returns)\n",
    "print(\"mu: \\t\", mu)"
   ]
  },
  {
   "cell_type": "code",
   "execution_count": 69,
   "metadata": {},
   "outputs": [
    {
     "name": "stdout",
     "output_type": "stream",
     "text": [
      "variance: \t 0.00014124770240419692\n"
     ]
    }
   ],
   "source": [
    "# Variance\n",
    "var = pow(np.std(log_returns), 2)\n",
    "print(\"variance: \\t\", var)"
   ]
  },
  {
   "cell_type": "code",
   "execution_count": 73,
   "metadata": {},
   "outputs": [
    {
     "name": "stdout",
     "output_type": "stream",
     "text": [
      "skewness: \t -0.29831601886931364\n",
      "SkewtestResult(statistic=-10.063949916449852, pvalue=7.973363977446626e-24)\n"
     ]
    }
   ],
   "source": [
    "# Skewness\n",
    "skewness = skew(log_returns)\n",
    "print(\"skewness: \\t\", skewness)\n",
    "print(skewtest(log_returns))"
   ]
  },
  {
   "cell_type": "code",
   "execution_count": 78,
   "metadata": {},
   "outputs": [
    {
     "name": "stdout",
     "output_type": "stream",
     "text": [
      "kurtosis: \t 11.696982967256597\n",
      "KurtosistestResult(statistic=36.83508600799532, pvalue=5.0683442221450403e-297)\n"
     ]
    }
   ],
   "source": [
    "# Kurtosis\n",
    "kurt = kurtosis(log_returns)\n",
    "print(\"kurtosis: \\t\", kurt)\n",
    "print(kurtosistest(log_returns))"
   ]
  },
  {
   "cell_type": "markdown",
   "metadata": {},
   "source": [
    "### Density plot"
   ]
  },
  {
   "cell_type": "code",
   "execution_count": 94,
   "metadata": {},
   "outputs": [
    {
     "data": {
      "text/plain": [
       "[<matplotlib.lines.Line2D at 0x7fb6de1b2af0>]"
      ]
     },
     "execution_count": 94,
     "metadata": {},
     "output_type": "execute_result"
    },
    {
     "data": {
      "image/png": "[encoded data removed]",
      "text/plain": [
       "<Figure size 432x288 with 1 Axes>"
      ]
     },
     "metadata": {
      "needs_background": "light"
     },
     "output_type": "display_data"
    }
   ],
   "source": [
    "# Density plot of log returns\n",
    "ax = sns.kdeplot(log_returns, linewidth = 0.5)\n",
    "# Normal distribution overlay\n",
    "ax.plot(x, p, 'k', linewidth = 0.5)"
   ]
  },
  {
   "cell_type": "code",
   "execution_count": 55,
   "metadata": {},
   "outputs": [
    {
     "name": "stderr",
     "output_type": "stream",
     "text": [
      "<ipython-input-55-8d0442b49ed6>:1: RuntimeWarning: divide by zero encountered in log\n",
      "  len(np.where(np.isnan(np.log(np.diff(df[\"Adj Close\"]))))[0])\n",
      "<ipython-input-55-8d0442b49ed6>:1: RuntimeWarning: invalid value encountered in log\n",
      "  len(np.where(np.isnan(np.log(np.diff(df[\"Adj Close\"]))))[0])\n"
     ]
    },
    {
     "data": {
      "text/plain": [
       "3207"
      ]
     },
     "execution_count": 55,
     "metadata": {},
     "output_type": "execute_result"
    }
   ],
   "source": [
    "np.where(np.isnan(np.log(np.diff(df[\"Adj Close\"]))))[0]"
   ]
  }
 ],
 "metadata": {
  "kernelspec": {
   "display_name": "cmplxty",
   "language": "python",
   "name": "cmplxty"
  },
  "language_info": {
   "codemirror_mode": {
    "name": "ipython",
    "version": 3
   },
   "file_extension": ".py",
   "mimetype": "text/x-python",
   "name": "python",
   "nbconvert_exporter": "python",
   "pygments_lexer": "ipython3",
   "version": "3.8.0"
  }
 },
 "nbformat": 4,
 "nbformat_minor": 4
}
